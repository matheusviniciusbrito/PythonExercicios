{
 "cells": [
  {
   "cell_type": "markdown",
   "metadata": {},
   "source": [
    "# Exercícios\n",
    "\n",
    "São exercícios bem parecidos com os que fizemos com listas. Mas na tupla, podemos não só trabalhar com índices, mas fazer o \"unpacking\" das tuplas, o que pode facilitar nossos códigos.\n",
    "\n",
    "## 1. Análise de Vendas\n",
    "\n",
    "Nesse exercício vamos fazer uma \"análise simples\" de atingimento de Meta.\n",
    "\n",
    "Temos uma lista com os vendedores e os valores de vendas e queremos identificar (printar) quais os vendedores que bateram a meta e qual foi o valor que eles venderam."
   ]
  },
  {
   "cell_type": "code",
   "execution_count": 1,
   "metadata": {},
   "outputs": [
    {
     "name": "stdout",
     "output_type": "stream",
     "text": [
      "João bateu a meta e vendeu 15000.\n",
      "Julia bateu a meta e vendeu 27000.\n",
      "Ana bateu a meta e vendeu 10300.\n"
     ]
    }
   ],
   "source": [
    "meta = 10000\n",
    "vendas = [\n",
    "    ('João', 15000),\n",
    "    ('Julia', 27000),\n",
    "    ('Marcus', 9900),\n",
    "    ('Maria', 3750),\n",
    "    ('Ana', 10300),\n",
    "    ('Alon', 7870),\n",
    "]\n",
    "\n",
    "for item in vendas:\n",
    "    nome, venda = item\n",
    "    if venda > meta:\n",
    "        print(\"{} bateu a meta e vendeu {}.\".format(nome, venda))"
   ]
  },
  {
   "cell_type": "markdown",
   "metadata": {},
   "source": [
    "## 2. Comparação com Ano Anterior\n",
    "\n",
    "Digamos que você está analisando as vendas de produtos de um ecommerce e quer identificar quais produtos tiveram no ano de 2020 mais vendas do que no ano de 2019, para reportar isso para a diretoria.\n",
    "\n",
    "Sua resposta pode ser um print de cada produto, qual foi a venda de 2019, a venda de 2020 e o % de crescimento de 2020 para 2019.\n",
    "\n",
    "Lembrando, para calcular o % de crescimento de um produto de um ano para o outro, podemos fazer: (vendas_produto2020/vendas_produto2019 - 1)\n",
    "\n",
    "A lógica da tupla é: (produto, vendas2019, vendas2020)"
   ]
  },
  {
   "cell_type": "code",
   "execution_count": 18,
   "metadata": {},
   "outputs": [
    {
     "name": "stdout",
     "output_type": "stream",
     "text": [
      "O produto iphone vendeu 558147 em 2019 e 951642 em 2020 e o crescimento de 2020 para 2019 foi de 70.5%\n",
      "O produto galaxy vendeu 712350 em 2019 e 244295 em 2020 e o crescimento de 2020 para 2019 foi de -65.7%\n",
      "O produto ipad vendeu 573823 em 2019 e 26964 em 2020 e o crescimento de 2020 para 2019 foi de -95.3%\n",
      "O produto tv vendeu 405252 em 2019 e 787604 em 2020 e o crescimento de 2020 para 2019 foi de 94.3%\n",
      "O produto máquina de café vendeu 718654 em 2019 e 867660 em 2020 e o crescimento de 2020 para 2019 foi de 20.7%\n",
      "O produto kindle vendeu 531580 em 2019 e 78830 em 2020 e o crescimento de 2020 para 2019 foi de -85.2%\n",
      "O produto geladeira vendeu 973139 em 2019 e 710331 em 2020 e o crescimento de 2020 para 2019 foi de -27.0%\n",
      "O produto adega vendeu 892292 em 2019 e 646016 em 2020 e o crescimento de 2020 para 2019 foi de -27.6%\n",
      "O produto notebook dell vendeu 422760 em 2019 e 694913 em 2020 e o crescimento de 2020 para 2019 foi de 64.4%\n",
      "O produto notebook hp vendeu 154753 em 2019 e 539704 em 2020 e o crescimento de 2020 para 2019 foi de 248.8%\n",
      "O produto notebook asus vendeu 887061 em 2019 e 324831 em 2020 e o crescimento de 2020 para 2019 foi de -63.4%\n",
      "O produto microsoft surface vendeu 438508 em 2019 e 667179 em 2020 e o crescimento de 2020 para 2019 foi de 52.1%\n",
      "O produto webcam vendeu 237467 em 2019 e 295633 em 2020 e o crescimento de 2020 para 2019 foi de 24.5%\n",
      "O produto caixa de som vendeu 489705 em 2019 e 725316 em 2020 e o crescimento de 2020 para 2019 foi de 48.1%\n",
      "O produto microfone vendeu 328311 em 2019 e 644622 em 2020 e o crescimento de 2020 para 2019 foi de 96.3%\n",
      "O produto câmera canon vendeu 591120 em 2019 e 994303 em 2020 e o crescimento de 2020 para 2019 foi de 68.2%\n"
     ]
    }
   ],
   "source": [
    "vendas_produtos = [('iphone', 558147, 951642), ('galaxy', 712350, 244295), ('ipad', 573823, 26964), ('tv', 405252, 787604), ('máquina de café', 718654, 867660), ('kindle', 531580, 78830), ('geladeira', 973139, 710331), ('adega', 892292, 646016), ('notebook dell', 422760, 694913), ('notebook hp', 154753, 539704), ('notebook asus', 887061, 324831), ('microsoft surface', 438508, 667179), ('webcam', 237467, 295633), ('caixa de som', 489705, 725316), ('microfone', 328311, 644622), ('câmera canon', 591120, 994303)]\n",
    "\n",
    "for produto, vendas2019, vendas2020 in vendas_produtos:\n",
    "    crescimento = vendas2020/vendas2019 - 1\n",
    "    print('O produto {} vendeu {} em 2019 e {} em 2020 e o crescimento de 2020 para 2019 foi de {:.1%}'.format(produto, vendas2019, vendas2020, crescimento))"
   ]
  }
 ],
 "metadata": {
  "kernelspec": {
   "display_name": "Python 3",
   "language": "python",
   "name": "python3"
  },
  "language_info": {
   "codemirror_mode": {
    "name": "ipython",
    "version": 3
   },
   "file_extension": ".py",
   "mimetype": "text/x-python",
   "name": "python",
   "nbconvert_exporter": "python",
   "pygments_lexer": "ipython3",
   "version": "3.11.5"
  }
 },
 "nbformat": 4,
 "nbformat_minor": 4
}
